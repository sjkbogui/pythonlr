{
 "cells": [
  {
   "cell_type": "code",
   "execution_count": null,
   "id": "c47b5400",
   "metadata": {},
   "outputs": [],
   "source": [
    "print(\"hello world\")"
   ]
  },
  {
   "cell_type": "code",
   "execution_count": null,
   "id": "e59ed96d",
   "metadata": {},
   "outputs": [],
   "source": [
    "# 布尔变量\n",
    "num1 = 10\n",
    "num2 = 15\n",
    "num3 = 10\n",
    "num4 = 10.0\n",
    "print(f\"10==15的结果是:{num1==num2}\")\n",
    "print(f\"10!=15的结果是:{num1!=num2}\")\n",
    "print(f\"10>15的结果是:{num1>num2}\")\n",
    "print(f\"10>=10的结果是:{num1>=num3}\")\n",
    "print(f\"10>=10的结果是:{num1>=num3}\")\n",
    "print(f\"10==10.0的结果是:{num1==num4}\")"
   ]
  },
  {
   "cell_type": "code",
   "execution_count": null,
   "id": "392df230",
   "metadata": {},
   "outputs": [],
   "source": [
    "# if语句\n",
    "\n",
    "age = 18\n",
    "if age >= 18:\n",
    "    print(\"我已经成年了\")\n",
    "    print(\"即将步入大学生活\")\n",
    "print(\"时间过的真快啊\")"
   ]
  },
  {
   "cell_type": "code",
   "execution_count": null,
   "id": "fbc79ba9",
   "metadata": {},
   "outputs": [],
   "source": [
    "# if else语句练习\n",
    "\n",
    "print(\"欢迎来到黑马儿童游乐场, 儿童免费, 成人收费\")\n",
    "\n",
    "age = int(input(\"请输入你的年龄:\"))\n",
    "\n",
    "if age >= 18:\n",
    "    print(\"您已成年, 游玩需要补票10元\")\n",
    "else:\n",
    "    print(\"您未成年，可以免费游玩\")\n",
    "\n",
    "print(\"祝您游玩愉快\")"
   ]
  },
  {
   "cell_type": "code",
   "execution_count": null,
   "id": "bab844dc",
   "metadata": {},
   "outputs": [],
   "source": [
    "# if elif else练习\n",
    "# 构建随机数字变量\n",
    "import random\n",
    "\n",
    "num = random.randint(1, 10)\n",
    "guess_num = int(input(\"请输入您的第一次猜测数字:\"))\n",
    "\n",
    "# 执行判断\n",
    "if guess_num == num:\n",
    "    print(\"恭喜您,第一次就猜中了\")\n",
    "else:\n",
    "    if guess_num > num:\n",
    "        print(\"您的数字大了\")\n",
    "    else:\n",
    "        print(\"您的数字小了\")\n",
    "\n",
    "    guess_num = int(input(\"请输入您的第二次猜测数字:\"))\n",
    "    if guess_num == num:\n",
    "        print(\"恭喜您,第二次猜中了\")\n",
    "    else:\n",
    "        if guess_num > num:\n",
    "            print(\"您的数字大了\")\n",
    "        else:\n",
    "            print(\"您的数字小了\")\n",
    "        guess_num = int(input(\"请输入您的第三次猜测数字:\"))\n",
    "        if guess_num == num:\n",
    "            print(\"恭喜您,第三次猜中了\")\n",
    "        else:\n",
    "            if guess_num > num:\n",
    "                print(\"您的数字大了\")\n",
    "            else:\n",
    "                print(\"您的数字小了\")"
   ]
  }
 ],
 "metadata": {
  "kernelspec": {
   "display_name": "mypylr",
   "language": "python",
   "name": "python3"
  },
  "language_info": {
   "codemirror_mode": {
    "name": "ipython",
    "version": 3
   },
   "file_extension": ".py",
   "mimetype": "text/x-python",
   "name": "python",
   "nbconvert_exporter": "python",
   "pygments_lexer": "ipython3",
   "version": "3.10.18"
  }
 },
 "nbformat": 4,
 "nbformat_minor": 5
}
